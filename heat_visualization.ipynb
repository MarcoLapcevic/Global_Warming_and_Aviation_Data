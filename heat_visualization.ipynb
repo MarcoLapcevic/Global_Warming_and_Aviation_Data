{
 "cells": [
  {
   "cell_type": "code",
   "execution_count": null,
   "id": "b4a66463",
   "metadata": {},
   "outputs": [],
   "source": [
    "import pandas as pd\n",
    "import matplotlib.pyplot as plt\n",
    "pd.options.display.max_rows"
   ]
  },
  {
   "cell_type": "code",
   "execution_count": null,
   "id": "945ed054",
   "metadata": {},
   "outputs": [],
   "source": [
    "global_surface_temperature"
   ]
  }
 ],
 "metadata": {
  "language_info": {
   "name": "python"
  }
 },
 "nbformat": 4,
 "nbformat_minor": 5
}
